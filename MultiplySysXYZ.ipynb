{
 "cells": [
  {
   "cell_type": "code",
   "execution_count": 2,
   "metadata": {},
   "outputs": [],
   "source": [
    "import sys\n",
    "import re\n",
    "import numpy as np\n",
    "from collections import namedtuple\n",
    "from itertools import groupby, cycle"
   ]
  },
  {
   "cell_type": "code",
   "execution_count": 3,
   "metadata": {},
   "outputs": [],
   "source": [
    "times_1, times_2 = 2,2"
   ]
  },
  {
   "cell_type": "code",
   "execution_count": 4,
   "metadata": {},
   "outputs": [],
   "source": [
    "a, b, c = 20.512, 20.512, 20.512"
   ]
  },
  {
   "cell_type": "code",
   "execution_count": 5,
   "metadata": {},
   "outputs": [],
   "source": [
    "def read_coords(fin):\n",
    "  with open(fin) as f:\n",
    "    natoms = int(f.readline())\n",
    "    comment = f.readline()\n",
    "\n",
    "    sym_and_coords = f.readlines()\n",
    "    sym_and_coords = [line.split() for line in sym_and_coords]\n",
    "    sym_and_coords = np.array(sym_and_coords)\n",
    "    atomtypes, coords = sym_and_coords[:,0], sym_and_coords[:, 1:].astype(np.float32)\n",
    "    # ooo = np.array([re.split('(\\d+)', a.strip()) for a in res])\n",
    "    # resIDs, resTypes = ooo[:,1], ooo[:,2]\n",
    "  # with open(fin) as f:\n",
    "    # global a, b, c\n",
    "    # a, b, c = f.readlines()[-1].split()\n",
    "    # a, b, c = float(a), float(b), float(c)\n",
    "    \n",
    "\n",
    "  return natoms, atomtypes, coords"
   ]
  },
  {
   "cell_type": "code",
   "execution_count": 6,
   "metadata": {},
   "outputs": [],
   "source": [
    "def write_to_xyz(natoms, atomtypes, coords, out_fname, title = ' '):\n",
    "  with open (out_fname, \"a\") as fout:\n",
    "    fout.write(\"%d\" % (natoms))\n",
    "    fout.write(\"%s\\n%d\\n\" % (title, coords.size / 3 ))\n",
    "    #reshape(-1,3) -1 means unknown, equals to total coords shape/3\n",
    "    for x, atomtype in zip(coords.reshape(-1, 3), cycle(atomtypes)):\n",
    "      fout.write(\"%5s%8.3f%8.3f%8.3f\\n\" % (atomtype, x[0], x[1], x[2]))"
   ]
  },
  {
   "cell_type": "code",
   "execution_count": 7,
   "metadata": {},
   "outputs": [],
   "source": [
    "def shift(arr, dim):\n",
    "  new_arr = arr + dim\n",
    "  return new_arr"
   ]
  },
  {
   "cell_type": "code",
   "execution_count": 8,
   "metadata": {},
   "outputs": [],
   "source": [
    "natoms, atomtypes, coords = read_coords(\"CO2.xyz\")"
   ]
  },
  {
   "cell_type": "code",
   "execution_count": 9,
   "metadata": {},
   "outputs": [
    {
     "data": {
      "text/plain": [
       "array([[ -5.61150265,  11.09743881,  -1.13192296],\n",
       "       [ -5.92588282,  10.12720013,  -0.49403694],\n",
       "       [ 14.15745163, -11.29800415,   0.12635572],\n",
       "       ...,\n",
       "       [ 19.55773911,  30.63463203,  10.11707878],\n",
       "       [ 18.89896814,  31.19371597,   9.71049118],\n",
       "       [ 19.0993493 ,  29.88288871,  10.51587963]])"
      ]
     },
     "execution_count": 9,
     "metadata": {},
     "output_type": "execute_result"
    }
   ],
   "source": [
    "c2 = [shift(coords, [a*(i), 0, 0]) for i in range(times_1)]\n",
    "d2 = np.vstack(c2)\n",
    "\n",
    "cc = [shift(d2, [0, b*(i), 0]) for i in range(times_2)]\n",
    "dd = np.vstack(cc)\n",
    "\n",
    "dd"
   ]
  },
  {
   "cell_type": "code",
   "execution_count": 16,
   "metadata": {},
   "outputs": [],
   "source": [
    "# # coords_shift_a = np.concatenate((coords, coords + np.array([a, 0, 0]).astype(np.float32)), axis=0)\n",
    "# # coords_shift_ab = np.concatenate((coords_shift_a, coords_shift_a + np.array([0, b, 0]).astype(np.float32)), axis=0)\n",
    "# indexes = np.arange(1, dd.size/3+1)\n",
    "# indexes.astype('int')\n",
    "# resIDsNew = np.array([shift(resIDs.astype('int'), resIDs[-1].astype('int') * i) for i in range(times_1*times_2)])\n",
    "# resIDsNew\n",
    "# resIDsNew = resIDsNew.flatten()\n"
   ]
  },
  {
   "cell_type": "code",
   "execution_count": 11,
   "metadata": {},
   "outputs": [],
   "source": [
    "write_to_xyz(natoms*4, atomtypes, dd, \"CO2_2x2.xyz\", \"Sorrentino\")\n"
   ]
  },
  {
   "cell_type": "code",
   "execution_count": null,
   "metadata": {},
   "outputs": [],
   "source": []
  },
  {
   "cell_type": "code",
   "execution_count": null,
   "metadata": {},
   "outputs": [],
   "source": []
  },
  {
   "cell_type": "code",
   "execution_count": null,
   "metadata": {},
   "outputs": [],
   "source": []
  }
 ],
 "metadata": {
  "interpreter": {
   "hash": "aee8b7b246df8f9039afb4144a1f6fd8d2ca17a180786b69acc140d282b71a49"
  },
  "kernelspec": {
   "display_name": "Python 3 (ipykernel)",
   "language": "python",
   "name": "python3"
  },
  "language_info": {
   "codemirror_mode": {
    "name": "ipython",
    "version": 3
   },
   "file_extension": ".py",
   "mimetype": "text/x-python",
   "name": "python",
   "nbconvert_exporter": "python",
   "pygments_lexer": "ipython3",
   "version": "3.10.2"
  }
 },
 "nbformat": 4,
 "nbformat_minor": 4
}
